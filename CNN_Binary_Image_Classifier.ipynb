{
  "nbformat": 4,
  "nbformat_minor": 0,
  "metadata": {
    "kernelspec": {
      "display_name": "Python 3",
      "language": "python",
      "name": "python3"
    },
    "language_info": {
      "codemirror_mode": {
        "name": "ipython",
        "version": 3
      },
      "file_extension": ".py",
      "mimetype": "text/x-python",
      "name": "python",
      "nbconvert_exporter": "python",
      "pygments_lexer": "ipython3",
      "version": "3.9.6"
    },
    "colab": {
      "name": "CNN_Binary_Image_Classifier.ipynb",
      "provenance": [],
      "collapsed_sections": [],
      "include_colab_link": true
    }
  },
  "cells": [
    {
      "cell_type": "markdown",
      "metadata": {
        "id": "view-in-github",
        "colab_type": "text"
      },
      "source": [
        "<a href=\"https://colab.research.google.com/github/BlitzenPrancer/AlarmApp/blob/main/CNN_Binary_Image_Classifier.ipynb\" target=\"_parent\"><img src=\"https://colab.research.google.com/assets/colab-badge.svg\" alt=\"Open In Colab\"/></a>"
      ]
    },
    {
      "cell_type": "code",
      "metadata": {
        "id": "u71WClnva2vT"
      },
      "source": [
        "import tensorflow as tf\n",
        "import numpy as np\n",
        "from tensorflow.keras.preprocessing.image import ImageDataGenerator\n",
        "from tensorflow.keras.preprocessing import image"
      ],
      "execution_count": 1,
      "outputs": []
    },
    {
      "cell_type": "code",
      "metadata": {
        "colab": {
          "base_uri": "https://localhost:8080/"
        },
        "id": "Sfdwx2j4a_Jb",
        "outputId": "7d2e711d-57d0-4cab-f91a-66397dcfdd49"
      },
      "source": [
        "from google.colab import drive\n",
        "drive.mount('/content/drive')"
      ],
      "execution_count": 2,
      "outputs": [
        {
          "output_type": "stream",
          "text": [
            "Mounted at /content/drive\n"
          ],
          "name": "stdout"
        }
      ]
    },
    {
      "cell_type": "markdown",
      "metadata": {
        "id": "A4KaLf9ba2vV"
      },
      "source": [
        "I am using the ImageDataGenerator class to feed in the training and validation data to the model. This class can also be used to generate augmented data."
      ]
    },
    {
      "cell_type": "code",
      "metadata": {
        "colab": {
          "base_uri": "https://localhost:8080/"
        },
        "id": "a8b4ixSBa2vW",
        "outputId": "e781133e-97dd-4f50-dfd1-fcd3f9c97135"
      },
      "source": [
        "train_datagenerator = ImageDataGenerator(rescale=1./255)\n",
        "test_datagenerator = ImageDataGenerator(rescale=1./255)\n",
        "\n",
        "train_datagenerator = train_datagenerator.flow_from_directory(\n",
        "    '/content/drive/MyDrive/code/train',\n",
        "    target_size=(128,128),\n",
        "    batch_size=40,\n",
        "    class_mode='binary')\n",
        "\n",
        "test_datagenerator = test_datagenerator.flow_from_directory(\n",
        "    '/content/drive/MyDrive/code/test',\n",
        "    target_size=(128,128),\n",
        "    batch_size=10,\n",
        "    class_mode='binary')"
      ],
      "execution_count": 3,
      "outputs": [
        {
          "output_type": "stream",
          "text": [
            "Found 229 images belonging to 2 classes.\n",
            "Found 40 images belonging to 2 classes.\n"
          ],
          "name": "stdout"
        }
      ]
    },
    {
      "cell_type": "markdown",
      "metadata": {
        "id": "hBgycSs4a2vY"
      },
      "source": [
        "Our model will have 3 Convolution2D layers. You can increse or decrease as per your needs."
      ]
    },
    {
      "cell_type": "code",
      "metadata": {
        "id": "k6VVgdwQa2vY"
      },
      "source": [
        "model = tf.keras.models.Sequential([\n",
        "    tf.keras.layers.Conv2D(32, (3,3),padding='same', activation='relu', input_shape=(128,128,3)),\n",
        "    tf.keras.layers.MaxPooling2D((2,2),2),\n",
        "    \n",
        "    tf.keras.layers.Conv2D(64, (3,3), padding='same', activation='relu'),\n",
        "    tf.keras.layers.MaxPooling2D((2,2),2),     \n",
        "     \n",
        "    tf.keras.layers.Conv2D(128, (3,3), padding='same', activation='relu'),\n",
        "    tf.keras.layers.MaxPooling2D((2,2),2),   \n",
        "    \n",
        "    tf.keras.layers.Flatten(),\n",
        "    tf.keras.layers.Dense(512, activation='relu'),\n",
        "    \n",
        "    tf.keras.layers.Dense(1, activation='sigmoid')\n",
        "])"
      ],
      "execution_count": null,
      "outputs": []
    },
    {
      "cell_type": "code",
      "metadata": {
        "colab": {
          "base_uri": "https://localhost:8080/"
        },
        "id": "BT4rdEEwa2vZ",
        "outputId": "8bf262f0-6fd7-4209-e1c8-965388b910bf"
      },
      "source": [
        "print(model.summary())"
      ],
      "execution_count": null,
      "outputs": [
        {
          "output_type": "stream",
          "text": [
            "Model: \"sequential\"\n",
            "_________________________________________________________________\n",
            "Layer (type)                 Output Shape              Param #   \n",
            "=================================================================\n",
            "conv2d (Conv2D)              (None, 128, 128, 32)      896       \n",
            "_________________________________________________________________\n",
            "max_pooling2d (MaxPooling2D) (None, 64, 64, 32)        0         \n",
            "_________________________________________________________________\n",
            "conv2d_1 (Conv2D)            (None, 64, 64, 64)        18496     \n",
            "_________________________________________________________________\n",
            "max_pooling2d_1 (MaxPooling2 (None, 32, 32, 64)        0         \n",
            "_________________________________________________________________\n",
            "conv2d_2 (Conv2D)            (None, 32, 32, 128)       73856     \n",
            "_________________________________________________________________\n",
            "max_pooling2d_2 (MaxPooling2 (None, 16, 16, 128)       0         \n",
            "_________________________________________________________________\n",
            "flatten (Flatten)            (None, 32768)             0         \n",
            "_________________________________________________________________\n",
            "dense (Dense)                (None, 512)               16777728  \n",
            "_________________________________________________________________\n",
            "dense_1 (Dense)              (None, 1)                 513       \n",
            "=================================================================\n",
            "Total params: 16,871,489\n",
            "Trainable params: 16,871,489\n",
            "Non-trainable params: 0\n",
            "_________________________________________________________________\n",
            "None\n"
          ],
          "name": "stdout"
        }
      ]
    },
    {
      "cell_type": "markdown",
      "metadata": {
        "id": "m-99z0V0a2va"
      },
      "source": [
        "We shall use Adam optimizer with a learning rate of 0.001 (hyperparameter). We choose 'binary_crossentropy' loss as our model is a binary calssifier (i.e, we have only 2 classes)"
      ]
    },
    {
      "cell_type": "code",
      "metadata": {
        "id": "qLoRn5Vja2vb"
      },
      "source": [
        "model.compile(loss='binary_crossentropy',\n",
        "             optimizer=tf.keras.optimizers.Adam(0.001),\n",
        "             metrics=['accuracy'])"
      ],
      "execution_count": null,
      "outputs": []
    },
    {
      "cell_type": "markdown",
      "metadata": {
        "id": "luIUoWupa2vb"
      },
      "source": [
        "At the end of each epoch we can check if the model has reached the required accuracy and terminate the training."
      ]
    },
    {
      "cell_type": "code",
      "metadata": {
        "id": "6oKUX36Pa2vc"
      },
      "source": [
        "DESIRED_ACCURACY = 0.85\n",
        "\n",
        "class myCallback(tf.keras.callbacks.Callback):\n",
        "  def on_epoch_end(self, epoch, logs={}):\n",
        "    if((logs.get('accuracy')>DESIRED_ACCURACY) and (logs.get('val_accuracy')>DESIRED_ACCURACY )):\n",
        "      print(\"\\nReached 85% accuracy so cancelling training!\")\n",
        "      self.model.stop_training = True\n",
        "\n",
        "callbacks = myCallback()"
      ],
      "execution_count": null,
      "outputs": []
    },
    {
      "cell_type": "markdown",
      "metadata": {
        "id": "Hys6kTtVa2vd"
      },
      "source": [
        "To know more about fit_generator visit https://keras.io/models/model/#fit_generator"
      ]
    },
    {
      "cell_type": "code",
      "metadata": {
        "colab": {
          "base_uri": "https://localhost:8080/"
        },
        "id": "UdL8BDTRa2vd",
        "outputId": "cf63d86a-e1c5-41ae-ba76-6779d104ed43"
      },
      "source": [
        "model.fit_generator(\n",
        "    train_datagenerator,\n",
        "    epochs=100,\n",
        "    validation_data = test_datagenerator,\n",
        "    callbacks = [callbacks]\n",
        "    )"
      ],
      "execution_count": null,
      "outputs": [
        {
          "output_type": "stream",
          "text": [
            "/usr/local/lib/python3.7/dist-packages/keras/engine/training.py:1972: UserWarning: `Model.fit_generator` is deprecated and will be removed in a future version. Please use `Model.fit`, which supports generators.\n",
            "  warnings.warn('`Model.fit_generator` is deprecated and '\n"
          ],
          "name": "stderr"
        },
        {
          "output_type": "stream",
          "text": [
            "Epoch 1/100\n",
            "6/6 [==============================] - 80s 13s/step - loss: 1.6591 - accuracy: 0.4803 - val_loss: 0.6910 - val_accuracy: 0.5750\n",
            "Epoch 2/100\n",
            "6/6 [==============================] - 10s 2s/step - loss: 0.6782 - accuracy: 0.6026 - val_loss: 0.7003 - val_accuracy: 0.5500\n",
            "Epoch 3/100\n",
            "6/6 [==============================] - 10s 2s/step - loss: 0.6252 - accuracy: 0.6376 - val_loss: 0.8168 - val_accuracy: 0.5750\n",
            "Epoch 4/100\n",
            "6/6 [==============================] - 10s 2s/step - loss: 0.5789 - accuracy: 0.6900 - val_loss: 0.8461 - val_accuracy: 0.5750\n",
            "Epoch 5/100\n",
            "6/6 [==============================] - 10s 2s/step - loss: 0.5266 - accuracy: 0.7380 - val_loss: 0.6981 - val_accuracy: 0.4750\n",
            "Epoch 6/100\n",
            "6/6 [==============================] - 10s 2s/step - loss: 0.4757 - accuracy: 0.7948 - val_loss: 0.8293 - val_accuracy: 0.5500\n",
            "Epoch 7/100\n",
            "6/6 [==============================] - 10s 2s/step - loss: 0.4910 - accuracy: 0.7598 - val_loss: 0.7592 - val_accuracy: 0.5750\n",
            "Epoch 8/100\n",
            "6/6 [==============================] - 10s 2s/step - loss: 0.3893 - accuracy: 0.8646 - val_loss: 0.9567 - val_accuracy: 0.5750\n",
            "Epoch 9/100\n",
            "6/6 [==============================] - 10s 2s/step - loss: 0.3404 - accuracy: 0.8559 - val_loss: 0.8262 - val_accuracy: 0.5500\n",
            "Epoch 10/100\n",
            "6/6 [==============================] - 10s 2s/step - loss: 0.2742 - accuracy: 0.9083 - val_loss: 0.7817 - val_accuracy: 0.5500\n",
            "Epoch 11/100\n",
            "6/6 [==============================] - 10s 2s/step - loss: 0.2448 - accuracy: 0.9214 - val_loss: 0.8584 - val_accuracy: 0.5750\n",
            "Epoch 12/100\n",
            "6/6 [==============================] - 10s 2s/step - loss: 0.2159 - accuracy: 0.8996 - val_loss: 0.6980 - val_accuracy: 0.6750\n",
            "Epoch 13/100\n",
            "6/6 [==============================] - 10s 2s/step - loss: 0.1533 - accuracy: 0.9694 - val_loss: 0.8287 - val_accuracy: 0.6500\n",
            "Epoch 14/100\n",
            "6/6 [==============================] - 10s 2s/step - loss: 0.0970 - accuracy: 0.9738 - val_loss: 1.1509 - val_accuracy: 0.5750\n",
            "Epoch 15/100\n",
            "6/6 [==============================] - 10s 2s/step - loss: 0.0854 - accuracy: 0.9825 - val_loss: 1.0130 - val_accuracy: 0.6500\n",
            "Epoch 16/100\n",
            "6/6 [==============================] - 10s 2s/step - loss: 0.0414 - accuracy: 1.0000 - val_loss: 1.3199 - val_accuracy: 0.6000\n",
            "Epoch 17/100\n",
            "6/6 [==============================] - 10s 2s/step - loss: 0.0298 - accuracy: 1.0000 - val_loss: 1.1767 - val_accuracy: 0.7250\n",
            "Epoch 18/100\n",
            "6/6 [==============================] - 10s 2s/step - loss: 0.0173 - accuracy: 1.0000 - val_loss: 1.2249 - val_accuracy: 0.6750\n",
            "Epoch 19/100\n",
            "6/6 [==============================] - 10s 2s/step - loss: 0.0111 - accuracy: 1.0000 - val_loss: 1.4312 - val_accuracy: 0.6500\n",
            "Epoch 20/100\n",
            "6/6 [==============================] - 10s 2s/step - loss: 0.0068 - accuracy: 1.0000 - val_loss: 1.4722 - val_accuracy: 0.6250\n",
            "Epoch 21/100\n",
            "6/6 [==============================] - 10s 2s/step - loss: 0.0042 - accuracy: 1.0000 - val_loss: 1.6433 - val_accuracy: 0.6500\n",
            "Epoch 22/100\n",
            "6/6 [==============================] - 10s 2s/step - loss: 0.0031 - accuracy: 1.0000 - val_loss: 1.7443 - val_accuracy: 0.6500\n",
            "Epoch 23/100\n",
            "6/6 [==============================] - 10s 2s/step - loss: 0.0022 - accuracy: 1.0000 - val_loss: 1.9569 - val_accuracy: 0.6500\n",
            "Epoch 24/100\n",
            "6/6 [==============================] - 10s 2s/step - loss: 0.0019 - accuracy: 1.0000 - val_loss: 1.9906 - val_accuracy: 0.6250\n",
            "Epoch 25/100\n",
            "6/6 [==============================] - 10s 2s/step - loss: 0.0014 - accuracy: 1.0000 - val_loss: 1.9171 - val_accuracy: 0.6250\n",
            "Epoch 26/100\n",
            "6/6 [==============================] - 10s 2s/step - loss: 0.0012 - accuracy: 1.0000 - val_loss: 2.0851 - val_accuracy: 0.6500\n",
            "Epoch 27/100\n",
            "6/6 [==============================] - 10s 2s/step - loss: 9.2948e-04 - accuracy: 1.0000 - val_loss: 2.0131 - val_accuracy: 0.6250\n",
            "Epoch 28/100\n",
            "6/6 [==============================] - 10s 2s/step - loss: 7.8598e-04 - accuracy: 1.0000 - val_loss: 2.1151 - val_accuracy: 0.6250\n",
            "Epoch 29/100\n",
            "6/6 [==============================] - 10s 2s/step - loss: 7.0056e-04 - accuracy: 1.0000 - val_loss: 2.1111 - val_accuracy: 0.6250\n",
            "Epoch 30/100\n",
            "6/6 [==============================] - 10s 2s/step - loss: 6.1583e-04 - accuracy: 1.0000 - val_loss: 2.2228 - val_accuracy: 0.6250\n",
            "Epoch 31/100\n",
            "6/6 [==============================] - 10s 2s/step - loss: 5.4747e-04 - accuracy: 1.0000 - val_loss: 2.2311 - val_accuracy: 0.6250\n",
            "Epoch 32/100\n",
            "6/6 [==============================] - 10s 2s/step - loss: 5.2425e-04 - accuracy: 1.0000 - val_loss: 2.2353 - val_accuracy: 0.6250\n",
            "Epoch 33/100\n",
            "6/6 [==============================] - 10s 2s/step - loss: 4.4098e-04 - accuracy: 1.0000 - val_loss: 2.2735 - val_accuracy: 0.6250\n",
            "Epoch 34/100\n",
            "6/6 [==============================] - 10s 2s/step - loss: 4.1195e-04 - accuracy: 1.0000 - val_loss: 2.3123 - val_accuracy: 0.6250\n",
            "Epoch 35/100\n",
            "6/6 [==============================] - 10s 2s/step - loss: 3.9001e-04 - accuracy: 1.0000 - val_loss: 2.3297 - val_accuracy: 0.6250\n",
            "Epoch 36/100\n",
            "6/6 [==============================] - 10s 2s/step - loss: 3.5026e-04 - accuracy: 1.0000 - val_loss: 2.3858 - val_accuracy: 0.6250\n",
            "Epoch 37/100\n",
            "6/6 [==============================] - 10s 2s/step - loss: 2.9594e-04 - accuracy: 1.0000 - val_loss: 2.3124 - val_accuracy: 0.6250\n",
            "Epoch 38/100\n",
            "6/6 [==============================] - 10s 2s/step - loss: 2.7673e-04 - accuracy: 1.0000 - val_loss: 2.3789 - val_accuracy: 0.6250\n",
            "Epoch 39/100\n",
            "6/6 [==============================] - 10s 2s/step - loss: 2.3834e-04 - accuracy: 1.0000 - val_loss: 2.4413 - val_accuracy: 0.6250\n",
            "Epoch 40/100\n",
            "6/6 [==============================] - 10s 2s/step - loss: 2.1325e-04 - accuracy: 1.0000 - val_loss: 2.4229 - val_accuracy: 0.6250\n",
            "Epoch 41/100\n",
            "6/6 [==============================] - 10s 2s/step - loss: 1.9832e-04 - accuracy: 1.0000 - val_loss: 2.4076 - val_accuracy: 0.6250\n",
            "Epoch 42/100\n",
            "6/6 [==============================] - 10s 2s/step - loss: 1.7822e-04 - accuracy: 1.0000 - val_loss: 2.4772 - val_accuracy: 0.6250\n",
            "Epoch 43/100\n",
            "6/6 [==============================] - 10s 2s/step - loss: 1.6769e-04 - accuracy: 1.0000 - val_loss: 2.5378 - val_accuracy: 0.6250\n",
            "Epoch 44/100\n",
            "6/6 [==============================] - 10s 2s/step - loss: 1.4981e-04 - accuracy: 1.0000 - val_loss: 2.4691 - val_accuracy: 0.6250\n",
            "Epoch 45/100\n",
            "6/6 [==============================] - 10s 2s/step - loss: 1.4024e-04 - accuracy: 1.0000 - val_loss: 2.5401 - val_accuracy: 0.6250\n",
            "Epoch 46/100\n",
            "6/6 [==============================] - 10s 2s/step - loss: 1.2898e-04 - accuracy: 1.0000 - val_loss: 2.5854 - val_accuracy: 0.6250\n",
            "Epoch 47/100\n",
            "6/6 [==============================] - 10s 2s/step - loss: 1.1994e-04 - accuracy: 1.0000 - val_loss: 2.5346 - val_accuracy: 0.6250\n",
            "Epoch 48/100\n",
            "6/6 [==============================] - 10s 2s/step - loss: 1.1574e-04 - accuracy: 1.0000 - val_loss: 2.6246 - val_accuracy: 0.6250\n",
            "Epoch 49/100\n",
            "6/6 [==============================] - 10s 2s/step - loss: 1.0283e-04 - accuracy: 1.0000 - val_loss: 2.5965 - val_accuracy: 0.6250\n",
            "Epoch 50/100\n",
            "6/6 [==============================] - 10s 2s/step - loss: 9.6287e-05 - accuracy: 1.0000 - val_loss: 2.5826 - val_accuracy: 0.6250\n",
            "Epoch 51/100\n",
            "6/6 [==============================] - 10s 2s/step - loss: 9.3994e-05 - accuracy: 1.0000 - val_loss: 2.6467 - val_accuracy: 0.6250\n",
            "Epoch 52/100\n",
            "6/6 [==============================] - 10s 2s/step - loss: 8.4293e-05 - accuracy: 1.0000 - val_loss: 2.5969 - val_accuracy: 0.6250\n",
            "Epoch 53/100\n",
            "6/6 [==============================] - 10s 2s/step - loss: 7.9325e-05 - accuracy: 1.0000 - val_loss: 2.6477 - val_accuracy: 0.6250\n",
            "Epoch 54/100\n",
            "6/6 [==============================] - 10s 2s/step - loss: 7.7624e-05 - accuracy: 1.0000 - val_loss: 2.6860 - val_accuracy: 0.6250\n",
            "Epoch 55/100\n",
            "6/6 [==============================] - 10s 2s/step - loss: 6.8950e-05 - accuracy: 1.0000 - val_loss: 2.6277 - val_accuracy: 0.6250\n",
            "Epoch 56/100\n",
            "6/6 [==============================] - 10s 2s/step - loss: 6.7040e-05 - accuracy: 1.0000 - val_loss: 2.6492 - val_accuracy: 0.6250\n",
            "Epoch 57/100\n",
            "6/6 [==============================] - 10s 2s/step - loss: 6.3274e-05 - accuracy: 1.0000 - val_loss: 2.7420 - val_accuracy: 0.6250\n",
            "Epoch 58/100\n",
            "6/6 [==============================] - 10s 2s/step - loss: 6.0079e-05 - accuracy: 1.0000 - val_loss: 2.6835 - val_accuracy: 0.6250\n",
            "Epoch 59/100\n",
            "6/6 [==============================] - 10s 2s/step - loss: 5.7601e-05 - accuracy: 1.0000 - val_loss: 2.6856 - val_accuracy: 0.6250\n",
            "Epoch 60/100\n",
            "6/6 [==============================] - 10s 2s/step - loss: 5.3535e-05 - accuracy: 1.0000 - val_loss: 2.7828 - val_accuracy: 0.6250\n",
            "Epoch 61/100\n",
            "6/6 [==============================] - 10s 2s/step - loss: 5.0809e-05 - accuracy: 1.0000 - val_loss: 2.7170 - val_accuracy: 0.6250\n",
            "Epoch 62/100\n",
            "6/6 [==============================] - 10s 2s/step - loss: 4.7393e-05 - accuracy: 1.0000 - val_loss: 2.7246 - val_accuracy: 0.6250\n",
            "Epoch 63/100\n",
            "6/6 [==============================] - 10s 2s/step - loss: 4.4583e-05 - accuracy: 1.0000 - val_loss: 2.7539 - val_accuracy: 0.6250\n",
            "Epoch 64/100\n",
            "6/6 [==============================] - 10s 2s/step - loss: 4.2461e-05 - accuracy: 1.0000 - val_loss: 2.7744 - val_accuracy: 0.6250\n",
            "Epoch 65/100\n",
            "6/6 [==============================] - 10s 2s/step - loss: 4.0523e-05 - accuracy: 1.0000 - val_loss: 2.7696 - val_accuracy: 0.6250\n",
            "Epoch 66/100\n",
            "6/6 [==============================] - 10s 2s/step - loss: 3.8312e-05 - accuracy: 1.0000 - val_loss: 2.7924 - val_accuracy: 0.6250\n",
            "Epoch 67/100\n",
            "6/6 [==============================] - 10s 2s/step - loss: 3.6462e-05 - accuracy: 1.0000 - val_loss: 2.7956 - val_accuracy: 0.6250\n",
            "Epoch 68/100\n",
            "6/6 [==============================] - 10s 2s/step - loss: 3.4820e-05 - accuracy: 1.0000 - val_loss: 2.8212 - val_accuracy: 0.6250\n",
            "Epoch 69/100\n",
            "6/6 [==============================] - 10s 2s/step - loss: 3.3141e-05 - accuracy: 1.0000 - val_loss: 2.7974 - val_accuracy: 0.6250\n",
            "Epoch 70/100\n",
            "6/6 [==============================] - 10s 2s/step - loss: 3.1503e-05 - accuracy: 1.0000 - val_loss: 2.8419 - val_accuracy: 0.6250\n",
            "Epoch 71/100\n",
            "6/6 [==============================] - 10s 2s/step - loss: 3.0048e-05 - accuracy: 1.0000 - val_loss: 2.8472 - val_accuracy: 0.6250\n",
            "Epoch 72/100\n",
            "6/6 [==============================] - 10s 2s/step - loss: 2.8397e-05 - accuracy: 1.0000 - val_loss: 2.8298 - val_accuracy: 0.6250\n",
            "Epoch 73/100\n",
            "6/6 [==============================] - 10s 2s/step - loss: 2.7375e-05 - accuracy: 1.0000 - val_loss: 2.8729 - val_accuracy: 0.6250\n",
            "Epoch 74/100\n",
            "6/6 [==============================] - 10s 2s/step - loss: 2.6192e-05 - accuracy: 1.0000 - val_loss: 2.8854 - val_accuracy: 0.6250\n",
            "Epoch 75/100\n",
            "6/6 [==============================] - 10s 2s/step - loss: 2.4449e-05 - accuracy: 1.0000 - val_loss: 2.9084 - val_accuracy: 0.6250\n",
            "Epoch 76/100\n",
            "6/6 [==============================] - 10s 2s/step - loss: 2.3588e-05 - accuracy: 1.0000 - val_loss: 2.9066 - val_accuracy: 0.6250\n",
            "Epoch 77/100\n",
            "6/6 [==============================] - 10s 2s/step - loss: 2.2051e-05 - accuracy: 1.0000 - val_loss: 2.9559 - val_accuracy: 0.6250\n",
            "Epoch 78/100\n",
            "6/6 [==============================] - 10s 2s/step - loss: 2.1097e-05 - accuracy: 1.0000 - val_loss: 2.9550 - val_accuracy: 0.6250\n",
            "Epoch 79/100\n",
            "6/6 [==============================] - 10s 2s/step - loss: 2.0129e-05 - accuracy: 1.0000 - val_loss: 2.9466 - val_accuracy: 0.6250\n",
            "Epoch 80/100\n",
            "6/6 [==============================] - 10s 2s/step - loss: 1.8844e-05 - accuracy: 1.0000 - val_loss: 2.9897 - val_accuracy: 0.6250\n",
            "Epoch 81/100\n",
            "6/6 [==============================] - 10s 2s/step - loss: 1.8172e-05 - accuracy: 1.0000 - val_loss: 3.0364 - val_accuracy: 0.6250\n",
            "Epoch 82/100\n",
            "6/6 [==============================] - 10s 2s/step - loss: 1.6935e-05 - accuracy: 1.0000 - val_loss: 2.9956 - val_accuracy: 0.6250\n",
            "Epoch 83/100\n",
            "6/6 [==============================] - 10s 2s/step - loss: 1.6234e-05 - accuracy: 1.0000 - val_loss: 3.0257 - val_accuracy: 0.6250\n",
            "Epoch 84/100\n",
            "6/6 [==============================] - 10s 2s/step - loss: 1.5329e-05 - accuracy: 1.0000 - val_loss: 3.0815 - val_accuracy: 0.6250\n",
            "Epoch 85/100\n",
            "6/6 [==============================] - 10s 2s/step - loss: 1.4362e-05 - accuracy: 1.0000 - val_loss: 3.0564 - val_accuracy: 0.6250\n",
            "Epoch 86/100\n",
            "6/6 [==============================] - 10s 2s/step - loss: 1.3393e-05 - accuracy: 1.0000 - val_loss: 3.1216 - val_accuracy: 0.6250\n",
            "Epoch 87/100\n",
            "6/6 [==============================] - 10s 2s/step - loss: 1.2528e-05 - accuracy: 1.0000 - val_loss: 3.1946 - val_accuracy: 0.6250\n",
            "Epoch 88/100\n",
            "6/6 [==============================] - 10s 2s/step - loss: 1.1710e-05 - accuracy: 1.0000 - val_loss: 3.2325 - val_accuracy: 0.6250\n",
            "Epoch 89/100\n",
            "6/6 [==============================] - 10s 2s/step - loss: 1.1190e-05 - accuracy: 1.0000 - val_loss: 3.2536 - val_accuracy: 0.6250\n",
            "Epoch 90/100\n",
            "6/6 [==============================] - 10s 2s/step - loss: 1.0487e-05 - accuracy: 1.0000 - val_loss: 3.3106 - val_accuracy: 0.6500\n",
            "Epoch 91/100\n",
            "6/6 [==============================] - 10s 2s/step - loss: 1.0377e-05 - accuracy: 1.0000 - val_loss: 3.2500 - val_accuracy: 0.6250\n",
            "Epoch 92/100\n",
            "6/6 [==============================] - 10s 2s/step - loss: 9.0765e-06 - accuracy: 1.0000 - val_loss: 3.3452 - val_accuracy: 0.6500\n",
            "Epoch 93/100\n",
            "6/6 [==============================] - 10s 2s/step - loss: 8.7982e-06 - accuracy: 1.0000 - val_loss: 3.3487 - val_accuracy: 0.6250\n",
            "Epoch 94/100\n",
            "6/6 [==============================] - 10s 2s/step - loss: 8.4347e-06 - accuracy: 1.0000 - val_loss: 3.3563 - val_accuracy: 0.6250\n",
            "Epoch 95/100\n",
            "6/6 [==============================] - 10s 2s/step - loss: 7.8950e-06 - accuracy: 1.0000 - val_loss: 3.3896 - val_accuracy: 0.6250\n",
            "Epoch 96/100\n",
            "6/6 [==============================] - 10s 2s/step - loss: 7.5237e-06 - accuracy: 1.0000 - val_loss: 3.4082 - val_accuracy: 0.6250\n",
            "Epoch 97/100\n",
            "6/6 [==============================] - 10s 2s/step - loss: 7.1301e-06 - accuracy: 1.0000 - val_loss: 3.4280 - val_accuracy: 0.6250\n",
            "Epoch 98/100\n",
            "6/6 [==============================] - 10s 2s/step - loss: 6.8477e-06 - accuracy: 1.0000 - val_loss: 3.4739 - val_accuracy: 0.6250\n",
            "Epoch 99/100\n",
            "6/6 [==============================] - 10s 2s/step - loss: 6.5219e-06 - accuracy: 1.0000 - val_loss: 3.5008 - val_accuracy: 0.6250\n",
            "Epoch 100/100\n",
            "6/6 [==============================] - 10s 2s/step - loss: 6.1494e-06 - accuracy: 1.0000 - val_loss: 3.5393 - val_accuracy: 0.6250\n"
          ],
          "name": "stdout"
        },
        {
          "output_type": "execute_result",
          "data": {
            "text/plain": [
              "<keras.callbacks.History at 0x7facf78bc5d0>"
            ]
          },
          "metadata": {},
          "execution_count": 8
        }
      ]
    },
    {
      "cell_type": "code",
      "metadata": {
        "id": "2WpMin4La2ve"
      },
      "source": [
        "model.save('mymodel.h5')"
      ],
      "execution_count": null,
      "outputs": []
    },
    {
      "cell_type": "code",
      "metadata": {
        "colab": {
          "base_uri": "https://localhost:8080/"
        },
        "id": "RHAdzbWljLbW",
        "outputId": "bd67c868-d553-44a2-91c5-da4ab0c209c2"
      },
      "source": [
        "path = '/content/drive/MyDrive/code/test/unfinished/1.jpg'\n",
        "img = image.load_img(path, target_size=(128, 128))\n",
        "x = image.img_to_array(img)\n",
        "x = np.expand_dims(x, axis=0)\n",
        "\n",
        "images = np.vstack([x])\n",
        "classes = model.predict(images)\n",
        "print(classes[0])\n",
        "if classes[0]<0.5:\n",
        "    print(\"The Construction of the Building has been Completed\")\n",
        "else:\n",
        "    print(\"Building work of the Construction is in Progress.........\")"
      ],
      "execution_count": null,
      "outputs": [
        {
          "output_type": "stream",
          "text": [
            "[1.]\n",
            "Building work of the Construction is in Progress.........\n"
          ],
          "name": "stdout"
        }
      ]
    }
  ]
}